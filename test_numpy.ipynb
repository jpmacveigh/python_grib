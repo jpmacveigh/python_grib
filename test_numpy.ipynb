{
 "cells": [
  {
   "cell_type": "code",
   "execution_count": 26,
   "metadata": {},
   "outputs": [
    {
     "name": "stdout",
     "output_type": "stream",
     "text": [
      "[(1, 2, 3), (11, 22, 33), (111, 222, 333)]\n",
      "[  2.  22. 222.] (3,)\n"
     ]
    }
   ],
   "source": [
    "import numpy as np\n",
    "t=[(1, 2, 3), (11, 22, 33), (111, 222, 333)]\n",
    "print(t)\n",
    "z=np.array([])\n",
    "for i in range(len(t)):\n",
    "    z=np.append(z,t[i][1])\n",
    "\n",
    "\n",
    "print(z,z.shape)\n"
   ]
  },
  {
   "cell_type": "raw",
   "metadata": {},
   "source": [
    "Calcul du vent"
   ]
  },
  {
   "cell_type": "code",
   "execution_count": 38,
   "metadata": {},
   "outputs": [
    {
     "name": "stdout",
     "output_type": "stream",
     "text": [
      "35.61228438884386\n",
      "69.22474287248266\n",
      "128.2042237998379\n",
      "242.01015821563243\n"
     ]
    }
   ],
   "source": [
    "import math\n",
    "u=31.446744458669396 # composante eastward en m/s\n",
    "v=16.713379740287046 # composante northward en m/s\n",
    "m_s=(u*u+v*v)**.5    # vitesse en m/s\n",
    "print (m_s)\n",
    "kt=m_s*3600/1852     # vitesse en kt\n",
    "print (kt)\n",
    "kmh=m_s*3600/1000\n",
    "print(kmh)\n",
    "def dir(u,v):\n",
    "    if (u==0.)and(v==0.):\n",
    "        return (0.)\n",
    "    else:\n",
    "        return ((math.atan2(u,v)/math.pi +1)*180.)  # calcul faux en zone polaire, à revoir\n",
    "print(dir(u,v))"
   ]
  },
  {
   "cell_type": "code",
   "execution_count": null,
   "metadata": {},
   "outputs": [],
   "source": []
  }
 ],
 "metadata": {
  "kernelspec": {
   "display_name": "Python 3",
   "language": "python",
   "name": "python3"
  },
  "language_info": {
   "codemirror_mode": {
    "name": "ipython",
    "version": 3
   },
   "file_extension": ".py",
   "mimetype": "text/x-python",
   "name": "python",
   "nbconvert_exporter": "python",
   "pygments_lexer": "ipython3",
   "version": "3.7.4"
  }
 },
 "nbformat": 4,
 "nbformat_minor": 2
}
